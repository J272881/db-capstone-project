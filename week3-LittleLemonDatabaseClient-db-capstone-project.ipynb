{
 "cells": [
  {
   "cell_type": "code",
   "execution_count": 1,
   "id": "8381c0fd",
   "metadata": {},
   "outputs": [],
   "source": [
    "import mysql.connector as connector"
   ]
  },
  {
   "cell_type": "code",
   "execution_count": 2,
   "id": "0f0d3a92",
   "metadata": {},
   "outputs": [],
   "source": [
    "connection=connector.connect(port=3305, user='root', password='272881J@n', db= 'LittleLemonDB')"
   ]
  },
  {
   "cell_type": "code",
   "execution_count": 3,
   "id": "bddfb88f",
   "metadata": {},
   "outputs": [],
   "source": [
    "cursor=connection.cursor()"
   ]
  },
  {
   "cell_type": "code",
   "execution_count": 4,
   "id": "a3541f5a",
   "metadata": {},
   "outputs": [
    {
     "name": "stdout",
     "output_type": "stream",
     "text": [
      "('bookings',)\n",
      "('customers',)\n",
      "('delivery_address',)\n",
      "('menuitems',)\n",
      "('menus',)\n",
      "('orderdeliverystatus',)\n",
      "('orders',)\n",
      "('ordersview',)\n",
      "('staff',)\n",
      "('staff_address',)\n"
     ]
    }
   ],
   "source": [
    "show_tables_query = \"SHOW TABLES\"\n",
    "cursor.execute(show_tables_query)\n",
    "results= cursor.fetchall()\n",
    "for tables in results:\n",
    "    print(tables)"
   ]
  },
  {
   "cell_type": "code",
   "execution_count": 5,
   "id": "8cfef7a2",
   "metadata": {},
   "outputs": [
    {
     "name": "stdout",
     "output_type": "stream",
     "text": [
      "('FullName', 'PhoneNumber', 'BillAmount')\n",
      "('Marlow Corn', '261-981-2455', Decimal('86.00'))\n",
      "('Adriano Bettles', '768-371-4761', Decimal('129.00'))\n",
      "('Marlow Corn', '261-981-2455', Decimal('215.00'))\n",
      "('Ezmeralda Buie', '694-253-9064', Decimal('258.00'))\n"
     ]
    }
   ],
   "source": [
    "SQL_Join_Query=\"\"\"\n",
    "SELECT CONCAT(customers.CustomerFirstName, ' ', customers.CustomerLastName) AS FullName,\n",
    "customers.PhoneNumber, orders.TotalCost AS 'BillAmount'\n",
    "FROM customers, bookings, orders\n",
    "WHERE customers.CustomerID = bookings.CustomerID\n",
    "AND bookings.BookingID = orders.BookingID\n",
    "AND orders.TotalCost > 60;\"\"\"\n",
    "#Executing Query\n",
    "cursor.execute(SQL_Join_Query)\n",
    "#Fetching Records\n",
    "results = cursor.fetchall()\n",
    "#Grabbing Column Names\n",
    "columns = cursor.column_names\n",
    "\n",
    "#Pint Columns\n",
    "print(columns)\n",
    "#Print Results\n",
    "for row in results:\n",
    "    print(row)\n"
   ]
  },
  {
   "cell_type": "code",
   "execution_count": 6,
   "id": "bef31ef4",
   "metadata": {},
   "outputs": [],
   "source": [
    "cursor.close()\n",
    "connection.close()"
   ]
  },
  {
   "cell_type": "code",
   "execution_count": null,
   "id": "2f6234ea",
   "metadata": {},
   "outputs": [],
   "source": []
  }
 ],
 "metadata": {
  "kernelspec": {
   "display_name": "Python 3 (ipykernel)",
   "language": "python",
   "name": "python3"
  },
  "language_info": {
   "codemirror_mode": {
    "name": "ipython",
    "version": 3
   },
   "file_extension": ".py",
   "mimetype": "text/x-python",
   "name": "python",
   "nbconvert_exporter": "python",
   "pygments_lexer": "ipython3",
   "version": "3.11.2"
  }
 },
 "nbformat": 4,
 "nbformat_minor": 5
}
